{
 "cells": [
  {
   "cell_type": "code",
   "execution_count": null,
   "id": "73df5946-6f9e-41bb-84cc-8395f93d866f",
   "metadata": {},
   "outputs": [],
   "source": [
    "# Q1. What is MongoDB? Explain non-relational databases in short. In which scenarios it is preferred to use\n",
    "# MongoDB over SQL databases?\n",
    "MongoDB, the most popular NoSQL database, is an open-source document-oriented database. \n",
    "The term ‘NoSQL’ means ‘non-relational’. It means that MongoDB isn’t based on the table-like\n",
    "relational database structure but provides an altogether different mechanism for storage and\n",
    "retrieval of data. This format of storage is called BSON ( similar to JSON format). \n",
    "\n",
    "Non-relational database: A non-relational database, sometimes called NoSQL (Not Only SQL), \n",
    "is any kind of database that doesn’t use the tables, fields, and columns structured data \n",
    "concept from relational databases. Non-relational databases have been designed with the\n",
    "cloud in mind, making them great at horizontal scaling.\n",
    "\n",
    "# SQL databases are used to store structured data while NoSQL databases like MongoDB are used\n",
    "# to save unstructured data. MongoDB is used to save unstructured data in JSON format. MongoDB\n",
    "# does not support advanced analytics and joins like SQL databases support."
   ]
  },
  {
   "cell_type": "code",
   "execution_count": null,
   "id": "78e7d173-6819-4f18-aa62-aeadccdd9d39",
   "metadata": {},
   "outputs": [],
   "source": [
    "# Q2. State and Explain the features of MongoDB.\n",
    "In MongoDB, each database consists of collections which in turn comprise documents. \n",
    "Each document might be different with a varying number of fields. The size and content\n",
    "of each document can be different from each other.\n",
    "\n",
    "The document structure is more specific to how developers construct their classes and \n",
    "objects in their respective programming languages. Developers will often say that their\n",
    "classes have a clear structure with the different key-value pairs.\n",
    "    \n",
    "The documents in MongoDB do not need to have a schema defined beforehand. Instead, the \n",
    "fields can be created instantly.\n",
    "\n",
    "With MongoDB, it is possible to represent hierarchical relationships and store arrays \n",
    "and other more complex structures more easily."
   ]
  },
  {
   "cell_type": "code",
   "execution_count": null,
   "id": "98d8215b-51ec-4100-b5af-766bb9072ce1",
   "metadata": {},
   "outputs": [],
   "source": [
    "# Q3. Write a code to connect MongoDB to Python. Also, create a database and a collection in MongoDB.\n",
    "# importing module \n",
    "\n",
    "from pymongo import MongoClient \n",
    "\n",
    "# creation of MongoClient \n",
    "client=MongoClient() \n",
    "\n",
    "# Connect with the portnumber and host \n",
    "client = MongoClient(“mongodb://localhost:27017/”) \n",
    "\n",
    "# Access database \n",
    "mydatabase = client[‘name_of_the_database’] \n",
    "\n",
    "# Access collection of the database \n",
    "mycollection=mydatabase[‘myTable’] \n",
    "\n",
    "# dictionary to be added in the database \n",
    "rec={ \n",
    "title: 'MongoDB and Python', \n",
    "description: 'MongoDB is no SQL database', \n",
    "tags: ['mongodb', 'database', 'NoSQL'], \n",
    "viewers: 104\n",
    "} \n",
    "\n",
    "# inserting the data in the database \n",
    "rec = mydatabase.myTable.insert(record) \n",
    "\n"
   ]
  },
  {
   "cell_type": "code",
   "execution_count": null,
   "id": "ae9bdd05-8be3-4a77-8016-861514072fd2",
   "metadata": {},
   "outputs": [],
   "source": [
    "# Q4. Using the database and the collection created in question number 3, write a code to insert one record,\n",
    "# and insert many records. Use the find() and find_one() methods to print the inserted record.\n",
    "\n",
    "For one :\n",
    "db.collection.insertOne(\n",
    "    <document>,\n",
    "    {\n",
    "      writeConcern: <document>\n",
    "    }\n",
    ")\n",
    "\n",
    "For Many : \n",
    "db.collection.insertMany(\n",
    "   [ <document 1> , <document 2>, ... ],\n",
    "   {\n",
    "      writeConcern: <document>,\n",
    "      ordered: <boolean>\n",
    "   }\n",
    ")"
   ]
  },
  {
   "cell_type": "code",
   "execution_count": null,
   "id": "c53473ea-8d45-4f2d-bb8d-33ad72802203",
   "metadata": {},
   "outputs": [],
   "source": [
    "# Q5. Explain how you can use the find() method to query the MongoDB database. Write a simple code to\n",
    "# demonstrate this.\n",
    "In MongoDB, find() method is used to select documents in a collection and return a cursor to the\n",
    "selected documents.\n",
    "Syntax: \n",
    "db.Collection_name.find(selection_criteria, projection,options)\n"
   ]
  },
  {
   "cell_type": "code",
   "execution_count": null,
   "id": "3c16b7a5-57bc-409d-8aff-44650a6804c6",
   "metadata": {},
   "outputs": [],
   "source": [
    "# Q6. Explain the sort() method. Give an example to demonstrate sorting in MongoDB.\n",
    "The sort() method specifies the order in which the query returns the matching documents\n",
    "from the given collection. You must apply this method to the cursor before retrieving \n",
    "any documents from the database. It takes a document as a parameter that contains a field:\n",
    "value pair that defines the sort order of the result set. The value is 1 or -1 specifying\n",
    "an ascending or descending sort respectively.\n",
    "\n",
    "syntax : db.Collection_Name.sort({field_name:1 or -1})"
   ]
  },
  {
   "cell_type": "code",
   "execution_count": null,
   "id": "35379484-9048-433c-bba5-189e34918c24",
   "metadata": {},
   "outputs": [],
   "source": [
    "# Q7. Explain why delete_one(), delete_many(), and drop() is used.\n",
    "delete_one():\n",
    "\n",
    "\n",
    "delete_many() : \n",
    "Delete_many() is used when one needs to delete more than one document.\n",
    "A query object containing which document to be deleted is created and is\n",
    "passed as the first parameter to the delete_many().\n",
    "Syntax : collection.delete_many(filter, collation=None, hint=None, session=None)\n"
   ]
  }
 ],
 "metadata": {
  "kernelspec": {
   "display_name": "Python 3 (ipykernel)",
   "language": "python",
   "name": "python3"
  },
  "language_info": {
   "codemirror_mode": {
    "name": "ipython",
    "version": 3
   },
   "file_extension": ".py",
   "mimetype": "text/x-python",
   "name": "python",
   "nbconvert_exporter": "python",
   "pygments_lexer": "ipython3",
   "version": "3.12.2"
  }
 },
 "nbformat": 4,
 "nbformat_minor": 5
}
